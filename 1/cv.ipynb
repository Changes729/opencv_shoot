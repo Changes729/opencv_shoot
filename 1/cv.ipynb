{
 "metadata": {
  "language_info": {
   "codemirror_mode": {
    "name": "ipython",
    "version": 3
   },
   "file_extension": ".py",
   "mimetype": "text/x-python",
   "name": "python",
   "nbconvert_exporter": "python",
   "pygments_lexer": "ipython3",
   "version": "3.8.0"
  },
  "orig_nbformat": 2,
  "kernelspec": {
   "name": "python3",
   "display_name": "Python 3.8.0 64-bit",
   "metadata": {
    "interpreter": {
     "hash": "39ee6c858c7bd1431c12a4545dc88bb7ea632a0df905682f99d0b8f5c097de4e"
    }
   }
  }
 },
 "nbformat": 4,
 "nbformat_minor": 2,
 "cells": [
  {
   "cell_type": "code",
   "execution_count": 2,
   "metadata": {},
   "outputs": [],
   "source": [
    "import cv2\n",
    "import numpy as np"
   ]
  },
  {
   "cell_type": "code",
   "execution_count": 3,
   "metadata": {},
   "outputs": [
    {
     "output_type": "stream",
     "name": "stdout",
     "text": [
      "img=\n [[0 0 0 0 0 0 0 0]\n [0 0 0 0 0 0 0 0]\n [0 0 0 0 0 0 0 0]\n [0 0 0 0 0 0 0 0]\n [0 0 0 0 0 0 0 0]\n [0 0 0 0 0 0 0 0]\n [0 0 0 0 0 0 0 0]\n [0 0 0 0 0 0 0 0]]\n[0,3] 0\n修改后img = \n [[  0   0   0 255   0   0   0   0]\n [  0   0   0   0   0   0   0   0]\n [  0   0   0   0   0   0   0   0]\n [  0   0   0   0   0   0   0   0]\n [  0   0   0   0   0   0   0   0]\n [  0   0   0   0   0   0   0   0]\n [  0   0   0   0   0   0   0   0]\n [  0   0   0   0   0   0   0   0]]\n"
     ]
    }
   ],
   "source": [
    "img = np.zeros((8,8),dtype=np.uint8)\n",
    "print(\"img=\\n\",img)\n",
    "cv2.imshow(\"one\",img)\n",
    "print(\"[0,3]\",img[0,3])\n",
    "img[0,3] =255\n",
    "print(\"修改后img = \\n\",img)\n",
    "cv2.imshow(\"two\",img)\n",
    "cv2.waitKey()\n",
    "cv2.destroyAllWindows()\n"
   ]
  },
  {
   "cell_type": "code",
   "execution_count": 8,
   "metadata": {},
   "outputs": [
    {
     "output_type": "stream",
     "name": "stdout",
     "text": [
      "[147 163 180]\n"
     ]
    }
   ],
   "source": [
    "img = cv2.imread('../test.jpg')\n",
    "cv2.imshow('before',img)\n",
    "for i in range(10,100):\n",
    "    for j in range(80,100):\n",
    "        img[i,j] = [0,255,255]\n",
    "print(img[10,10])\n",
    "cv2.imshow('after',img)\n",
    "cv2.waitKey()\n",
    "cv2.destroyAllWindows()"
   ]
  },
  {
   "cell_type": "code",
   "execution_count": 10,
   "metadata": {},
   "outputs": [],
   "source": [
    "arr = np.zeros((300,300,3),dtype = np.uint8)\n",
    "arr[:,0:100,0] = 255\n",
    "arr[:,100:200,1] = 255\n",
    "arr[:,200:300,2] = 255\n",
    "cv2.imshow('img',arr)\n",
    "cv2 .waitKey()\n",
    "cv2.destroyAllWindows()"
   ]
  },
  {
   "cell_type": "code",
   "execution_count": 13,
   "metadata": {},
   "outputs": [],
   "source": [
    "arr = np.random.randint(10,99,size=[300,300],dtype=np.uint8)\n",
    "cv2.imshow(\"before\",arr)\n",
    "arr.itemset((3,2),255)\n",
    "cv2.imshow(\"after\",arr)\n",
    "cv2 .waitKey()\n",
    "cv2.destroyAllWindows()\n"
   ]
  },
  {
   "cell_type": "code",
   "execution_count": null,
   "metadata": {},
   "outputs": [],
   "source": []
  }
 ]
}